{
 "cells": [
  {
   "cell_type": "markdown",
   "metadata": {},
   "source": [
    "# SIB - Intelligent Systems for Bioinformatics\n",
    "\n",
    "### Exercise 2: NumPy array Indexing/Slicing"
   ]
  },
  {
   "cell_type": "markdown",
   "metadata": {},
   "source": [
    "Examples of how to use the methods in exercise 2"
   ]
  },
  {
   "cell_type": "markdown",
   "metadata": {},
   "source": [
    "- Method name: dropna"
   ]
  },
  {
   "cell_type": "code",
   "execution_count": 5,
   "metadata": {},
   "outputs": [],
   "source": [
    "import numpy as np\n",
    "from si.data.dataset import Dataset"
   ]
  },
  {
   "cell_type": "code",
   "execution_count": 9,
   "metadata": {},
   "outputs": [
    {
     "name": "stdout",
     "output_type": "stream",
     "text": [
      "Features values with missing values:\n",
      " [[ 1.  2. nan]\n",
      " [ 3.  4.  5.]\n",
      " [nan  6.  7.]]\n",
      "Lables with missing values: [10 20 30]\n",
      "Shape of X with missing values: (3, 3)\n",
      "Shape of Y with missing values: (3,)\n",
      "Shape of X without missing values: (1, 3)\n",
      "Shape of y without missing values: (1,)\n",
      "Features values without missing values:\n",
      " [[3. 4. 5.]]\n",
      "Labels without missing values: [20]\n"
     ]
    }
   ],
   "source": [
    "X = np.array([[1, 2, np.nan],\n",
    "              [3, 4, 5],\n",
    "              [np.nan, 6, 7]])\n",
    "y = np.array([10, 20, 30])\n",
    "dataset = Dataset(X, y,label=\"Y\")\n",
    "\n",
    "print(\"Features values with missing values:\\n\",dataset.X)\n",
    "print(\"Lables with missing values:\",dataset.y)\n",
    "print(\"Shape of X with missing values:\",dataset.X.shape)\n",
    "print(\"Shape of Y with missing values:\",dataset.y.shape)\n",
    "\n",
    "dataset = dataset.dropna()\n",
    "\n",
    "print(\"Shape of X without missing values:\",dataset.X.shape)\n",
    "print(\"Shape of y without missing values:\",dataset.y.shape)\n",
    "print(\"Features values without missing values:\\n\",dataset.X)\n",
    "print(\"Labels without missing values:\",dataset.y)"
   ]
  },
  {
   "cell_type": "markdown",
   "metadata": {},
   "source": [
    "- Method name: fillna"
   ]
  },
  {
   "cell_type": "code",
   "execution_count": 12,
   "metadata": {},
   "outputs": [
    {
     "name": "stdout",
     "output_type": "stream",
     "text": [
      "[[30.  2. nan]\n",
      " [ 3.  4.  5.]\n",
      " [nan  6.  7.]]\n",
      "Median: [16.5  4.   6. ]\n"
     ]
    },
    {
     "ename": "AttributeError",
     "evalue": "'Dataset' object has no attribute 'fillna'",
     "output_type": "error",
     "traceback": [
      "\u001b[1;31m---------------------------------------------------------------------------\u001b[0m",
      "\u001b[1;31mAttributeError\u001b[0m                            Traceback (most recent call last)",
      "Cell \u001b[1;32mIn[12], line 10\u001b[0m\n\u001b[0;32m      7\u001b[0m \u001b[38;5;28mprint\u001b[39m(dataset\u001b[38;5;241m.\u001b[39mX)\n\u001b[0;32m      8\u001b[0m \u001b[38;5;28mprint\u001b[39m(\u001b[38;5;124m\"\u001b[39m\u001b[38;5;124mMedian:\u001b[39m\u001b[38;5;124m\"\u001b[39m,dataset\u001b[38;5;241m.\u001b[39mget_median())\n\u001b[1;32m---> 10\u001b[0m dataset_median \u001b[38;5;241m=\u001b[39m \u001b[43mdataset\u001b[49m\u001b[38;5;241;43m.\u001b[39;49m\u001b[43mfillna\u001b[49m(value\u001b[38;5;241m=\u001b[39m\u001b[38;5;124m\"\u001b[39m\u001b[38;5;124mmedian\u001b[39m\u001b[38;5;124m\"\u001b[39m)\n\u001b[0;32m     12\u001b[0m \u001b[38;5;28mprint\u001b[39m(\u001b[38;5;124m\"\u001b[39m\u001b[38;5;124mFeatures values with missing values equal to the mean:\u001b[39m\u001b[38;5;130;01m\\n\u001b[39;00m\u001b[38;5;124m\"\u001b[39m,dataset_median\u001b[38;5;241m.\u001b[39mX)\n",
      "\u001b[1;31mAttributeError\u001b[0m: 'Dataset' object has no attribute 'fillna'"
     ]
    }
   ],
   "source": [
    "X = np.array([[30, 2, np.nan],\n",
    "                  [3, 4, 5],\n",
    "                  [np.nan, 6, 7]])\n",
    "y = np.array([10, 20, 30])\n",
    "dataset= Dataset(X, y)\n",
    "\n",
    "print(dataset.X)\n",
    "print(\"Median:\",dataset.get_median())\n",
    "\n",
    "dataset_median = dataset.fillna(value=\"median\")\n",
    "\n",
    "print(\"Features values with missing values equal to the mean:\\n\",dataset_median.X)"
   ]
  },
  {
   "cell_type": "markdown",
   "metadata": {},
   "source": [
    "- Method name: remove_by_index"
   ]
  },
  {
   "cell_type": "code",
   "execution_count": 11,
   "metadata": {},
   "outputs": [
    {
     "name": "stdout",
     "output_type": "stream",
     "text": [
      "[[30.  2. nan]\n",
      " [ 3.  4.  5.]\n",
      " [nan  6.  7.]]\n"
     ]
    },
    {
     "ename": "AttributeError",
     "evalue": "'Dataset' object has no attribute 'remove_by_index'",
     "output_type": "error",
     "traceback": [
      "\u001b[1;31m---------------------------------------------------------------------------\u001b[0m",
      "\u001b[1;31mAttributeError\u001b[0m                            Traceback (most recent call last)",
      "Cell \u001b[1;32mIn[11], line 9\u001b[0m\n\u001b[0;32m      5\u001b[0m dataset\u001b[38;5;241m=\u001b[39m Dataset(X, y)\n\u001b[0;32m      7\u001b[0m \u001b[38;5;28mprint\u001b[39m(dataset\u001b[38;5;241m.\u001b[39mX)\n\u001b[1;32m----> 9\u001b[0m dataset_ \u001b[38;5;241m=\u001b[39m \u001b[43mdataset\u001b[49m\u001b[38;5;241;43m.\u001b[39;49m\u001b[43mremove_by_index\u001b[49m(index\u001b[38;5;241m=\u001b[39m \u001b[38;5;241m1\u001b[39m)\n\u001b[0;32m     11\u001b[0m \u001b[38;5;28mprint\u001b[39m(\u001b[38;5;124m\"\u001b[39m\u001b[38;5;130;01m\\n\u001b[39;00m\u001b[38;5;124m\"\u001b[39m,dataset\u001b[38;5;241m.\u001b[39mX)\n",
      "\u001b[1;31mAttributeError\u001b[0m: 'Dataset' object has no attribute 'remove_by_index'"
     ]
    }
   ],
   "source": [
    "X = np.array([[30, 2, np.nan],\n",
    "                  [3, 4, 5],\n",
    "                  [np.nan, 6, 7]])\n",
    "y = np.array([10, 20, 30])\n",
    "dataset= Dataset(X, y)\n",
    "\n",
    "print(dataset.X)\n",
    "\n",
    "dataset_ = dataset.remove_by_index(index= 1)\n",
    "\n",
    "print(\"\\n\",dataset.X)"
   ]
  }
 ],
 "metadata": {
  "kernelspec": {
   "display_name": "si",
   "language": "python",
   "name": "python3"
  },
  "language_info": {
   "codemirror_mode": {
    "name": "ipython",
    "version": 3
   },
   "file_extension": ".py",
   "mimetype": "text/x-python",
   "name": "python",
   "nbconvert_exporter": "python",
   "pygments_lexer": "ipython3",
   "version": "3.12.5"
  }
 },
 "nbformat": 4,
 "nbformat_minor": 2
}
